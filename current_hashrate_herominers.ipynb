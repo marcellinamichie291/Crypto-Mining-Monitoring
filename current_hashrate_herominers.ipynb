{
 "cells": [
  {
   "cell_type": "code",
   "execution_count": 3,
   "metadata": {},
   "outputs": [
    {
     "data": {
      "text/plain": [
       "'Hashrate: 1.35GH'"
      ]
     },
     "execution_count": 3,
     "metadata": {},
     "output_type": "execute_result"
    }
   ],
   "source": [
    "from requests import get\n",
    "from math import log, floor\n",
    "\n",
    "#The API for Herominers with my wallet information\n",
    "herominers_API = get(\"https://ergo.herominers.com/api/live_stats?address=9fbTRjsurmNp14mABUG3APak7TrxnbWnAuHv9NtW31oKPx2VgNV\")\n",
    "\n",
    "#Extracting keys from the API\n",
    "herominers_API_keys = herominers_API.json()\n",
    "herominers_API_keys.keys()\n",
    "hashrate = herominers_API_keys[\"miner\"][\"hashrate\"]\n",
    "\n",
    "#Function for changing large numbers to Kilos, Megas etc.\n",
    "def human_format(number):\n",
    "    units = ['', 'KH', 'MH', 'GH', 'TH', 'PH']\n",
    "    k = 1000.0\n",
    "    magnitude = int(floor(log(number, k)))\n",
    "    return 'Current Hashrate: ' '%.2f%s' % (number / k**magnitude, units[magnitude])\n",
    "\n",
    "human_format(hashrate)"
   ]
  }
 ],
 "metadata": {
  "kernelspec": {
   "display_name": "Python 3.10.8 64-bit (microsoft store)",
   "language": "python",
   "name": "python3"
  },
  "language_info": {
   "codemirror_mode": {
    "name": "ipython",
    "version": 3
   },
   "file_extension": ".py",
   "mimetype": "text/x-python",
   "name": "python",
   "nbconvert_exporter": "python",
   "pygments_lexer": "ipython3",
   "version": "3.10.8"
  },
  "orig_nbformat": 4,
  "vscode": {
   "interpreter": {
    "hash": "703f1f9e655300fbd6540256af5f02cf7c8c6818df0c0d142955dbc639db8b24"
   }
  }
 },
 "nbformat": 4,
 "nbformat_minor": 2
}
