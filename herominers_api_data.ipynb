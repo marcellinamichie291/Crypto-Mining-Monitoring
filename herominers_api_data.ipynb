{
 "cells": [
  {
   "cell_type": "code",
   "execution_count": 4,
   "metadata": {},
   "outputs": [
    {
     "name": "stdout",
     "output_type": "stream",
     "text": [
      "Hashrates:\n",
      "\n",
      "Rig 1 (AMD):\n",
      "Current Hashrate: 361.04MH\n",
      "\n",
      "Rig 2 (NVIDIA):\n",
      "Current Hashrate: 508.80MH\n",
      "\n",
      "Hashrate total: \n",
      "Current Hashrate: 869.84MH\n",
      "Average 24h: 1.16GH\n",
      "\n",
      "ERGO:\n",
      "Total Paid: 12.81 ERG\n",
      "Pending Balance: 0.86 ERG\n"
     ]
    }
   ],
   "source": [
    "from requests import get\n",
    "from math import log, floor\n",
    "\n",
    "#The API for Herominers with my wallet information\n",
    "herominers_API = get(\"https://ergo.herominers.com/api/stats_address?address=9fbTRjsurmNp14mABUG3APak7TrxnbWnAuHv9NtW31oKPx2VgNV&recentBlocksAmount=20&longpoll=true\")\n",
    "\n",
    "#Extracting keys from the API\n",
    "herominers_API_keys = herominers_API.json()\n",
    "herominers_API_keys.keys()\n",
    "\n",
    "#Hashrate data\n",
    "current_hashrate = herominers_API_keys[\"stats\"][\"hashrate\"]\n",
    "avg_24h_hashrate = herominers_API_keys[\"stats\"][\"hashrate_24h\"]\n",
    "rig_1_current_hashrate = herominers_API_keys[\"workers\"][1][\"hashrate\"]\n",
    "rig_2_current_hashrate = herominers_API_keys[\"workers\"][0][\"hashrate\"]\n",
    "\n",
    "#ERGO Payment data, rounded to 2 decimals\n",
    "total_paid_ergo = int(herominers_API_keys[\"stats\"][\"paid\"]) / 1000000000\n",
    "total_paid_ergo = round(total_paid_ergo, 2)\n",
    "pending_balance_ergo = int(herominers_API_keys[\"stats\"][\"balance\"]) / 1000000000\n",
    "pending_balance_ergo = round(pending_balance_ergo, 2)\n",
    "\n",
    "\n",
    "\n",
    "\n",
    "#Function for changing large numbers to Kilos, Megas etc.\n",
    "def hashrate_format(number):\n",
    "    units = ['', 'KH', 'MH', 'GH', 'TH', 'PH']\n",
    "    k = 1000.0\n",
    "    magnitude = int(floor(log(number, k)))\n",
    "    return '%.2f%s' % (number / k**magnitude, units[magnitude])\n",
    "\n",
    "#Printing out the data in correct form\n",
    "\n",
    "#Hashrate data\n",
    "print(\"Hashrates:\")\n",
    "print()\n",
    "print(\"Rig 1 (AMD):\")\n",
    "print(f\"Current Hashrate: {hashrate_format(rig_1_current_hashrate)}\")\n",
    "print()\n",
    "print(\"Rig 2 (NVIDIA):\")\n",
    "print(f\"Current Hashrate: {hashrate_format(rig_2_current_hashrate)}\")\n",
    "print()\n",
    "print(\"Hashrate total: \")\n",
    "print(f\"Current Hashrate: {hashrate_format(current_hashrate)}\")\n",
    "print(f\"Average 24h: {hashrate_format(avg_24h_hashrate)}\")\n",
    "\n",
    "#ERGO Payment data in correct form\n",
    "print()\n",
    "print(\"ERGO:\")\n",
    "print(f\"Total Paid: {total_paid_ergo} ERG\")\n",
    "print(f\"Pending Balance: {pending_balance_ergo} ERG\")"
   ]
  }
 ],
 "metadata": {
  "kernelspec": {
   "display_name": "Python 3.10.8 64-bit (microsoft store)",
   "language": "python",
   "name": "python3"
  },
  "language_info": {
   "codemirror_mode": {
    "name": "ipython",
    "version": 3
   },
   "file_extension": ".py",
   "mimetype": "text/x-python",
   "name": "python",
   "nbconvert_exporter": "python",
   "pygments_lexer": "ipython3",
   "version": "3.10.8"
  },
  "orig_nbformat": 4,
  "vscode": {
   "interpreter": {
    "hash": "703f1f9e655300fbd6540256af5f02cf7c8c6818df0c0d142955dbc639db8b24"
   }
  }
 },
 "nbformat": 4,
 "nbformat_minor": 2
}
