{
 "cells": [
  {
   "cell_type": "code",
   "execution_count": 4,
   "metadata": {},
   "outputs": [],
   "source": [
    "from requests import get\n",
    "from math import log, floor\n",
    "\n",
    "#The API for Herominers with my information\n",
    "herominers_API = get(\"https://ergo.herominers.com/api/stats_address?address=9fbTRjsurmNp14mABUG3APak7TrxnbWnAuHv9NtW31oKPx2VgNV&recentBlocksAmount=20&longpoll=true\")\n",
    "\n",
    "#Extracting keys from the API\n",
    "herominers_API_keys = herominers_API.json()\n",
    "herominers_API_keys.keys()\n",
    "\n",
    "#Hashrate data\n",
    "current_hashrate = herominers_API_keys[\"stats\"][\"hashrate\"]\n",
    "avg_24h_hashrate = herominers_API_keys[\"stats\"][\"hashrate_24h\"]\n",
    "rig_1 = herominers_API_keys[\"workers\"][1][\"name\"]\n",
    "rig_2 = herominers_API_keys[\"workers\"][0][\"name\"]\n",
    "rig_1_current_hashrate = herominers_API_keys[\"workers\"][1][\"hashrate\"]\n",
    "rig_2_current_hashrate = herominers_API_keys[\"workers\"][0][\"hashrate\"]\n",
    "\n",
    "#ERGO Payment data, rounded to 2 decimals\n",
    "total_paid_ergo = int(herominers_API_keys[\"stats\"][\"paid\"]) / 1000000000\n",
    "total_paid_ergo = round(total_paid_ergo, 2)\n",
    "pending_balance_ergo = int(herominers_API_keys[\"stats\"][\"balance\"]) / 1000000000\n",
    "pending_balance_ergo = round(pending_balance_ergo, 2)\n",
    "\n",
    "\n",
    "\n",
    "\n",
    "#Function for changing large numbers to Kilos, Megas etc.\n",
    "def hashrate_format(number):\n",
    "    units = ['', ' KH', ' MH', ' GH', ' TH', ' PH']\n",
    "    k = 1000.0\n",
    "    magnitude = int(floor(log(number, k)))\n",
    "    return '%.2f%s' % (number / k**magnitude, units[magnitude])\n",
    "\n",
    "#Printing out the data in correct form\n",
    "\n",
    "\n",
    "file = open(\"herominers_output.txt\", \"w\")\n",
    "\n",
    "#Hashrate data\n",
    "file.write(\"Hashrates:\\n\")\n",
    "file.write(f\"\\n{rig_1}: {hashrate_format(rig_1_current_hashrate)}\\n\")\n",
    "file.write(f\"{rig_2}: {hashrate_format(rig_2_current_hashrate)}\\n\")\n",
    "file.write(\"Total:\\n\")\n",
    "file.write(f\"Current: {hashrate_format(current_hashrate)}\\n\")\n",
    "file.write(f\"Average 24h: {hashrate_format(avg_24h_hashrate)}\\n\")\n",
    "\n",
    "#ERGO Payment data\n",
    "file.write(\"\\nERGO:\\n\")\n",
    "file.write(f\"\\nTotal Paid: {total_paid_ergo} ERG\\n\")\n",
    "file.write(f\"Pending Balance: {pending_balance_ergo} ERG\\n\")\n",
    "file.close()\n"
   ]
  }
 ],
 "metadata": {
  "kernelspec": {
   "display_name": "Python 3.10.8 64-bit (microsoft store)",
   "language": "python",
   "name": "python3"
  },
  "language_info": {
   "codemirror_mode": {
    "name": "ipython",
    "version": 3
   },
   "file_extension": ".py",
   "mimetype": "text/x-python",
   "name": "python",
   "nbconvert_exporter": "python",
   "pygments_lexer": "ipython3",
   "version": "3.10.8"
  },
  "orig_nbformat": 4,
  "vscode": {
   "interpreter": {
    "hash": "703f1f9e655300fbd6540256af5f02cf7c8c6818df0c0d142955dbc639db8b24"
   }
  }
 },
 "nbformat": 4,
 "nbformat_minor": 2
}
